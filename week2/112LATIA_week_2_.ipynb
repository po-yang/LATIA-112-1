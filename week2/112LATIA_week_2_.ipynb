{
  "nbformat": 4,
  "nbformat_minor": 0,
  "metadata": {
    "colab": {
      "provenance": []
    },
    "kernelspec": {
      "name": "python3",
      "display_name": "Python 3"
    },
    "language_info": {
      "name": "python"
    }
  },
  "cells": [
    {
      "cell_type": "code",
      "source": [
        "from google.colab import drive\n",
        "drive.mount('/content/gdrive/')\n"
      ],
      "metadata": {
        "colab": {
          "base_uri": "https://localhost:8080/"
        },
        "id": "DU_FTPxPd1kc",
        "outputId": "96f3c500-6356-412d-f98a-5eaf6819a7cd"
      },
      "execution_count": 3,
      "outputs": [
        {
          "output_type": "stream",
          "name": "stdout",
          "text": [
            "Mounted at /content/gdrive/\n"
          ]
        }
      ]
    },
    {
      "cell_type": "code",
      "source": [
        "import os\n",
        "os.chdir(\"/content/gdrive/My Drive/\")\n"
      ],
      "metadata": {
        "id": "63jd5Z16eOF5"
      },
      "execution_count": 12,
      "outputs": []
    },
    {
      "cell_type": "code",
      "source": [
        "import pandas as pd\n",
        "\n",
        "csv_file = '/content/gdrive/My Drive/112-2LATIA/week2/112_student.csv'\n",
        "\n",
        "df = pd.read_csv(csv_file, encoding='utf-8')\n",
        "\n",
        "#columns = [\n",
        "#    \"學年度\",\"學校代碼\",\"學校名稱\",\"日間∕進修別\",\"等級別\",\"總計\",\"男生計\",\n",
        "#    \"女生計\",\"一年級男\",\"一年級女\",\"二年級男\",\"二年級女\",\"三年級男\",\"三年級女\",\n",
        "#    \"四年級男\",\"四年級女\",\"五年級男\",\"五年級女\",\"六年級男\",\"六年級女\",\n",
        "#    \"七年級男\",\"七年級女\",\"延修生男\",\"延修生女\",\"縣市名稱\",\"體系別\"\n",
        "#]\n",
        "df = pd.read_csv(csv_file, encoding='utf-8')\n",
        "#print(df.head())\n",
        "\n",
        "#查看資料欄位資訊\n",
        "print(df.info(verbose=True, show_counts=True))\n",
        "\n",
        "#查看資料的統計學資訊描述\n",
        "#print(df.describe())"
      ],
      "metadata": {
        "colab": {
          "base_uri": "https://localhost:8080/"
        },
        "id": "2s2CrNOBfonX",
        "outputId": "9ddf24f3-0b46-4dad-bd92-43b81514af01"
      },
      "execution_count": 15,
      "outputs": [
        {
          "output_type": "stream",
          "name": "stdout",
          "text": [
            "<class 'pandas.core.frame.DataFrame'>\n",
            "RangeIndex: 764 entries, 0 to 763\n",
            "Data columns (total 26 columns):\n",
            " #   Column  Non-Null Count  Dtype \n",
            "---  ------  --------------  ----- \n",
            " 0   學年度     764 non-null    int64 \n",
            " 1   學校代碼    764 non-null    int64 \n",
            " 2   學校名稱    764 non-null    object\n",
            " 3   日間∕進修別  764 non-null    object\n",
            " 4   等級別     764 non-null    object\n",
            " 5   總計      764 non-null    int64 \n",
            " 6   男生計     764 non-null    int64 \n",
            " 7   女生計     764 non-null    int64 \n",
            " 8   一年級男    764 non-null    int64 \n",
            " 9   一年級女    764 non-null    int64 \n",
            " 10  二年級男    764 non-null    int64 \n",
            " 11  二年級女    764 non-null    int64 \n",
            " 12  三年級男    764 non-null    int64 \n",
            " 13  三年級女    764 non-null    int64 \n",
            " 14  四年級男    764 non-null    int64 \n",
            " 15  四年級女    764 non-null    int64 \n",
            " 16  五年級男    764 non-null    int64 \n",
            " 17  五年級女    764 non-null    int64 \n",
            " 18  六年級男    764 non-null    int64 \n",
            " 19  六年級女    764 non-null    int64 \n",
            " 20  七年級男    764 non-null    int64 \n",
            " 21  七年級女    764 non-null    int64 \n",
            " 22  延修生男    764 non-null    int64 \n",
            " 23  延修生女    764 non-null    int64 \n",
            " 24  縣市名稱    764 non-null    object\n",
            " 25  體系別     764 non-null    object\n",
            "dtypes: int64(21), object(5)\n",
            "memory usage: 155.3+ KB\n",
            "None\n"
          ]
        }
      ]
    }
  ]
}