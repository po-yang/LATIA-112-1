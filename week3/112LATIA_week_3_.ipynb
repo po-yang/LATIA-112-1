{
  "nbformat": 4,
  "nbformat_minor": 0,
  "metadata": {
    "colab": {
      "provenance": []
    },
    "kernelspec": {
      "name": "python3",
      "display_name": "Python 3"
    },
    "language_info": {
      "name": "python"
    }
  },
  "cells": [
    {
      "cell_type": "code",
      "source": [
        "from google.colab import drive\n",
        "drive.mount('/content/gdrive/')"
      ],
      "metadata": {
        "colab": {
          "base_uri": "https://localhost:8080/"
        },
        "id": "Dy3NF9TRXa_s",
        "outputId": "88be4e41-48b2-4a96-dee3-ee5bfe4fef07"
      },
      "execution_count": 1,
      "outputs": [
        {
          "output_type": "stream",
          "name": "stdout",
          "text": [
            "Mounted at /content/gdrive/\n"
          ]
        }
      ]
    },
    {
      "cell_type": "code",
      "execution_count": 2,
      "metadata": {
        "id": "xZ99clM7XTdC"
      },
      "outputs": [],
      "source": [
        "import os\n",
        "os.chdir(\"/content/gdrive/My Drive/\")"
      ]
    },
    {
      "cell_type": "code",
      "source": [
        "import pandas as pd\n",
        "\n",
        "csv_file = '/content/gdrive/My Drive/112-2LATIA/week2/112_student.csv'\n",
        "\n",
        "df = pd.read_csv(csv_file, encoding='utf-8')\n",
        "\n",
        "#columns = [\n",
        "#    \"學年度\",\"學校代碼\",\"學校名稱\",\"日間∕進修別\",\"等級別\",\"總計\",\"男生計\",\n",
        "#    \"女生計\",\"一年級男\",\"一年級女\",\"二年級男\",\"二年級女\",\"三年級男\",\"三年級女\",\n",
        "#    \"四年級男\",\"四年級女\",\"五年級男\",\"五年級女\",\"六年級男\",\"六年級女\",\n",
        "#    \"七年級男\",\"七年級女\",\"延修生男\",\"延修生女\",\"縣市名稱\",\"體系別\"\n",
        "#]\n",
        "df = pd.read_csv(csv_file, encoding='utf-8')\n",
        "#print(df.head())\n",
        "\n",
        "#查看資料欄位資訊\n",
        "print(df.info(verbose=True, show_counts=True))\n",
        "\n",
        "#查看資料的統計學資訊描述\n",
        "#print(df.describe())"
      ],
      "metadata": {
        "colab": {
          "base_uri": "https://localhost:8080/"
        },
        "id": "-Nv9boqkXmQb",
        "outputId": "2b411cbd-4165-433f-d253-68e47f4339a5"
      },
      "execution_count": 3,
      "outputs": [
        {
          "output_type": "stream",
          "name": "stdout",
          "text": [
            "<class 'pandas.core.frame.DataFrame'>\n",
            "RangeIndex: 764 entries, 0 to 763\n",
            "Data columns (total 26 columns):\n",
            " #   Column  Non-Null Count  Dtype \n",
            "---  ------  --------------  ----- \n",
            " 0   學年度     764 non-null    int64 \n",
            " 1   學校代碼    764 non-null    int64 \n",
            " 2   學校名稱    764 non-null    object\n",
            " 3   日間∕進修別  764 non-null    object\n",
            " 4   等級別     764 non-null    object\n",
            " 5   總計      764 non-null    int64 \n",
            " 6   男生計     764 non-null    int64 \n",
            " 7   女生計     764 non-null    int64 \n",
            " 8   一年級男    764 non-null    int64 \n",
            " 9   一年級女    764 non-null    int64 \n",
            " 10  二年級男    764 non-null    int64 \n",
            " 11  二年級女    764 non-null    int64 \n",
            " 12  三年級男    764 non-null    int64 \n",
            " 13  三年級女    764 non-null    int64 \n",
            " 14  四年級男    764 non-null    int64 \n",
            " 15  四年級女    764 non-null    int64 \n",
            " 16  五年級男    764 non-null    int64 \n",
            " 17  五年級女    764 non-null    int64 \n",
            " 18  六年級男    764 non-null    int64 \n",
            " 19  六年級女    764 non-null    int64 \n",
            " 20  七年級男    764 non-null    int64 \n",
            " 21  七年級女    764 non-null    int64 \n",
            " 22  延修生男    764 non-null    int64 \n",
            " 23  延修生女    764 non-null    int64 \n",
            " 24  縣市名稱    764 non-null    object\n",
            " 25  體系別     764 non-null    object\n",
            "dtypes: int64(21), object(5)\n",
            "memory usage: 155.3+ KB\n",
            "None\n"
          ]
        }
      ]
    },
    {
      "cell_type": "markdown",
      "source": [
        "# 1. 哪間大專院校有最多的學士生\n"
      ],
      "metadata": {
        "id": "AYf464i_YQoL"
      }
    },
    {
      "cell_type": "code",
      "source": [
        "df1 = df[['總計']] # 取出想要觀看的欄位\n",
        "print(\"本資料集共有\", len(df1), \"筆紀錄\")\n",
        "\n",
        "df1_1 = df1[df['等級別'] == 'B 學士']\n",
        "print(\"有招生學士學制的學校數量為\", df1_1, \"\\n\")\n",
        "df1_1_sorted = df1_1.sort_values(by = \"總計\", ascending = False)\n",
        "print(\"112學年度在籍的學士生最多人數之學校為\", df1_1_sorted.head(1)[\"總計\"].values[0])"
      ],
      "metadata": {
        "colab": {
          "base_uri": "https://localhost:8080/"
        },
        "id": "4TBsFZpeYaDK",
        "outputId": "af10c605-9967-4401-ec3f-482ce2a612c9"
      },
      "execution_count": 28,
      "outputs": [
        {
          "output_type": "stream",
          "name": "stdout",
          "text": [
            "本資料集共有 764 筆紀錄\n",
            "有招生學士學制的學校數量為         總計\n",
            "3     9763\n",
            "7     9274\n",
            "12   17323\n",
            "16    8503\n",
            "20   12159\n",
            "..     ...\n",
            "702    799\n",
            "733    749\n",
            "738     51\n",
            "739     19\n",
            "763   5275\n",
            "\n",
            "[97 rows x 1 columns] \n",
            "\n",
            "112學年度在籍的學士生最多人數之學校為 19466\n"
          ]
        }
      ]
    },
    {
      "cell_type": "markdown",
      "source": [
        "# 2. 國立？所；私立？所"
      ],
      "metadata": {
        "id": "-IipIkLZepYL"
      }
    },
    {
      "cell_type": "code",
      "source": [
        "type_list = [] # 建立空字串\n",
        "\n",
        "for i in df['學校名稱']:\n",
        "    if ('國立' in i) or ('市立' in i):\n",
        "        type_list.append('國立')\n",
        "    else:\n",
        "        type_list.append('私立')\n",
        "\n",
        "df['公私立'] = type_list # 將 Dataframe 新增「公私立」column\n",
        "\n",
        "df2 = df.drop_duplicates('學校名稱')\n",
        "count = df2['公私立'].value_counts()\n",
        "\n",
        "print(df2)\n",
        "print(f\"本資料集共收集了 {len(df2)} 所學校，其中公立：{count['國立']} 所；私立：{count['私立']} 所。\")"
      ],
      "metadata": {
        "colab": {
          "base_uri": "https://localhost:8080/"
        },
        "id": "RTjRmp4TeuNx",
        "outputId": "5d444fdb-f9ad-4e75-f68e-92493d33facb"
      },
      "execution_count": 36,
      "outputs": [
        {
          "output_type": "stream",
          "name": "stdout",
          "text": [
            "     學年度  學校代碼        學校名稱 日間∕進修別   等級別    總計   男生計   女生計  一年級男  一年級女  ...  \\\n",
            "0    112     1      國立政治大學    D 日  D 博士   921   517   404    86    69  ...   \n",
            "4    112     2      國立清華大學    D 日  D 博士  1636  1131   505   206    93  ...   \n",
            "9    112     3      國立臺灣大學    D 日  D 博士  3654  2454  1200   431   215  ...   \n",
            "13   112     4    國立臺灣師範大學    D 日  D 博士  1337   630   707   106   127  ...   \n",
            "17   112     5      國立成功大學    D 日  D 博士  1888  1228   660   219   136  ...   \n",
            "..   ...   ...         ...    ...   ...   ...   ...   ...   ...   ...  ...   \n",
            "753  112  1289  育英醫護管理專科學校    D 日  5 五專  1833   200  1633    39   343  ...   \n",
            "754  112  1291  聖母醫護管理專科學校    D 日  2 二專     2     2     0     0     0  ...   \n",
            "757  112  1292  新生醫護管理專科學校    N 修  2 二專    79    12    67     7    37  ...   \n",
            "759  112  1293  崇仁醫護管理專科學校    D 日  5 五專  3017   460  2557   112   515  ...   \n",
            "760  112  3002      臺北市立大學    D 日  D 博士   208    94   114    17    11  ...   \n",
            "\n",
            "     五年級女  六年級男  六年級女  七年級男  七年級女  延修生男  延修生女    縣市名稱   體系別  公私立  \n",
            "0      52    68    37    66    50     0     0  30 臺北市  1 一般   國立  \n",
            "4      60   110    50   115    56     0     0  18 新竹市  1 一般   國立  \n",
            "9     128   179   106   312   132     0     0  30 臺北市  1 一般   國立  \n",
            "13     83    59    85    87    89     0     0  30 臺北市  3 師範   國立  \n",
            "17     84   107    57   110    48     0     0  21 臺南市  1 一般   國立  \n",
            "..    ...   ...   ...   ...   ...   ...   ...     ...   ...  ...  \n",
            "753   276     0     0     0     0    13    77  50 高雄市  2 技職   私立  \n",
            "754     0     0     0     0     0     2     0  02 宜蘭縣  2 技職   私立  \n",
            "757     0     0     0     0     0     0     1  03 桃園市  2 技職   私立  \n",
            "759   529     0     0     0     0    19    45  10 嘉義縣  2 技職   私立  \n",
            "760    14     6     9    16    25     0     0  30 臺北市  1 一般   國立  \n",
            "\n",
            "[145 rows x 27 columns]\n",
            "本資料集共收集了 145 所學校，其中公立：47 所；私立：98 所。\n"
          ]
        }
      ]
    },
    {
      "cell_type": "markdown",
      "source": [
        "# 3. 各等級別學制共有？所"
      ],
      "metadata": {
        "id": "dskO9qwYira3"
      }
    },
    {
      "cell_type": "code",
      "source": [
        "\n",
        "df3 = df.drop_duplicates(subset=['學校名稱', '等級別'])\n",
        "count = df3['等級別'].value_counts()\n",
        "degree_list = list(df['等級別'].unique())\n",
        "\n",
        "print(f\"本資料集總共收集了 {len(set(df3['學校名稱']))} 所學校，各等級學制當中：\")\n",
        "for degree in degree_list:\n",
        "    print(f\"一共有{count[degree]} 所學校， 有招收{degree}。\")\n"
      ],
      "metadata": {
        "colab": {
          "base_uri": "https://localhost:8080/"
        },
        "id": "crVNUSZFitQv",
        "outputId": "1b8fe817-1231-435a-ce95-5dff0621b62b"
      },
      "execution_count": 47,
      "outputs": [
        {
          "output_type": "stream",
          "name": "stdout",
          "text": [
            "本資料集總共收集了 145 所學校，各等級學制當中：\n",
            "一共有84 所學校， 有招收D 博士。\n",
            "一共有130 所學校， 有招收M 碩士。\n",
            "一共有67 所學校， 有招收B 學士。\n",
            "一共有1 所學校， 有招收X 4+X。\n",
            "一共有71 所學校， 有招收C 二技。\n",
            "一共有66 所學校， 有招收B 四技。\n",
            "一共有46 所學校， 有招收5 五專。\n",
            "一共有2 所學校， 有招收5 七年。\n",
            "一共有46 所學校， 有招收2 二專。\n",
            "一共有1 所學校， 有招收C 二年制。\n"
          ]
        }
      ]
    },
    {
      "cell_type": "markdown",
      "source": [
        "# 4.博士生有幾人"
      ],
      "metadata": {
        "id": "G8fTRJJInqGt"
      }
    },
    {
      "cell_type": "code",
      "source": [
        "doctoral_students = df[df['等級別'] == 'D 博士']['總計'].sum()\n",
        "print(\"博士生共有\", doctoral_students, \"人\")\n",
        "\n",
        "doctoral_students = df[df['等級別'] == 'D 博士']\n",
        "school_doctoral_counts = doctoral_students.groupby('學校名稱')['總計'].sum()\n",
        "print(school_doctoral_counts)\n",
        "\n"
      ],
      "metadata": {
        "colab": {
          "base_uri": "https://localhost:8080/"
        },
        "id": "BHRFoU7znuHO",
        "outputId": "a39c20f3-7468-4b8a-b7a4-3d058bd21500"
      },
      "execution_count": 50,
      "outputs": [
        {
          "output_type": "stream",
          "name": "stdout",
          "text": [
            "博士生共有 28504 人\n",
            "學校名稱\n",
            "世新大學       81\n",
            "中原大學      332\n",
            "中國文化大學    494\n",
            "中國醫藥大學    416\n",
            "中山醫學大學    165\n",
            "         ... \n",
            "長庚大學      454\n",
            "長榮大學       46\n",
            "靜宜大學       61\n",
            "馬偕醫學院      12\n",
            "高雄醫學大學    309\n",
            "Name: 總計, Length: 84, dtype: int64\n"
          ]
        }
      ]
    }
  ]
}